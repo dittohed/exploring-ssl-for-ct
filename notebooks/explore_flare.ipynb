{
 "cells": [
  {
   "cell_type": "markdown",
   "metadata": {},
   "source": [
    "The aim of this notebook is to explore FLARE2022 dataset."
   ]
  },
  {
   "cell_type": "markdown",
   "metadata": {},
   "source": [
    "# Imports & constants"
   ]
  },
  {
   "cell_type": "code",
   "execution_count": 1,
   "metadata": {},
   "outputs": [],
   "source": [
    "import matplotlib.pyplot as plt\n",
    "\n",
    "from pathlib import Path\n",
    "from collections import Counter\n",
    "\n",
    "from monai.transforms import (\n",
    "    LoadImaged,\n",
    "    Compose,\n",
    "    CropForegroundd,\n",
    "    EnsureChannelFirstd,\n",
    "    EnsureTyped,\n",
    "    ScaleIntensityRanged,\n",
    "    Orientationd,\n",
    "    Spacingd,\n",
    "    RandCropByPosNegLabeld\n",
    ")\n",
    "from monai.data import Dataset, DataLoader\n",
    "from monai.utils import first"
   ]
  },
  {
   "cell_type": "code",
   "execution_count": 2,
   "metadata": {},
   "outputs": [],
   "source": [
    "DATA_DIR = '../data/finetune'"
   ]
  },
  {
   "cell_type": "markdown",
   "metadata": {},
   "source": [
    "# Exploration"
   ]
  },
  {
   "cell_type": "code",
   "execution_count": 3,
   "metadata": {},
   "outputs": [],
   "source": [
    "img_paths = sorted((Path(DATA_DIR)/Path('imgs')).glob('*.nii.gz'))\n",
    "label_paths = sorted((Path(DATA_DIR)/Path('labels')).glob('*.nii.gz'))\n",
    "data = [{'img': img_path, 'label': label_path} \n",
    "        for img_path, label_path in zip(img_paths, label_paths)]"
   ]
  },
  {
   "cell_type": "markdown",
   "metadata": {},
   "source": [
    "### Pixel sizes\n",
    "\n",
    "First of all, let's explore pixel sizes."
   ]
  },
  {
   "cell_type": "code",
   "execution_count": 4,
   "metadata": {},
   "outputs": [],
   "source": [
    "transforms = Compose([\n",
    "    LoadImaged(keys=['img', 'label']),\n",
    "])\n",
    "dataset = Dataset(data, transform=transforms)\n",
    "\n",
    "xy_dims = []\n",
    "z_dims = []\n",
    "for i in range(len(dataset)):\n",
    "    pixdims = dataset[i]['img_meta_dict']['pixdim']\n",
    "    xy_dims.append(round(pixdims[1], 1))  # Assuming they're the same\n",
    "    z_dims.append(round(pixdims[3], 1))"
   ]
  },
  {
   "cell_type": "code",
   "execution_count": 5,
   "metadata": {},
   "outputs": [
    {
     "data": {
      "image/png": "[encoded data removed]",
      "text/plain": [
       "<Figure size 640x480 with 1 Axes>"
      ]
     },
     "metadata": {},
     "output_type": "display_data"
    }
   ],
   "source": [
    "xy_dims = Counter(xy_dims)\n",
    "\n",
    "plt.bar(xy_dims.keys(), xy_dims.values(), width=0.1, edgecolor='black')\n",
    "plt.show()"
   ]
  },
  {
   "cell_type": "code",
   "execution_count": 6,
   "metadata": {},
   "outputs": [
    {
     "data": {
      "image/png": "[encoded data removed]",
      "text/plain": [
       "<Figure size 640x480 with 1 Axes>"
      ]
     },
     "metadata": {},
     "output_type": "display_data"
    }
   ],
   "source": [
    "z_dims = Counter(z_dims)\n",
    "\n",
    "plt.bar(z_dims.keys(), z_dims.values(), width=0.1, edgecolor='black')\n",
    "plt.show()"
   ]
  },
  {
   "cell_type": "markdown",
   "metadata": {},
   "source": [
    "### HU values\n",
    "\n",
    "Let's also take a look at distribution of HU values of organs to be detected."
   ]
  },
  {
   "cell_type": "code",
   "execution_count": 15,
   "metadata": {},
   "outputs": [],
   "source": [
    "organ_pixels = []\n",
    "\n",
    "for i in range(len(dataset)):\n",
    "    if i % 5 == 0:\n",
    "        data_dict = dataset[i]\n",
    "        mask = data_dict['label'] > 0\n",
    "        organ_pixels.extend(data_dict['img'][mask].tolist())"
   ]
  },
  {
   "cell_type": "code",
   "execution_count": 16,
   "metadata": {},
   "outputs": [
    {
     "data": {
      "image/png": "[encoded data removed]",
      "text/plain": [
       "<Figure size 640x480 with 1 Axes>"
      ]
     },
     "metadata": {},
     "output_type": "display_data"
    }
   ],
   "source": [
    "plt.hist(organ_pixels, edgecolor='black')\n",
    "plt.yscale('log')\n",
    "plt.show()"
   ]
  },
  {
   "cell_type": "code",
   "execution_count": 17,
   "metadata": {},
   "outputs": [],
   "source": [
    "del organ_pixels"
   ]
  },
  {
   "attachments": {},
   "cell_type": "markdown",
   "metadata": {},
   "source": [
    "### Labels\n",
    "\n",
    "Finally, let's visualize some (img, label) pairs."
   ]
  },
  {
   "cell_type": "code",
   "execution_count": 19,
   "metadata": {},
   "outputs": [],
   "source": [
    "transforms = Compose([\n",
    "    LoadImaged(keys=['img', 'label']),\n",
    "    EnsureChannelFirstd(keys=['img', 'label']),\n",
    "    Orientationd(keys=['img', 'label'], axcodes='RAS'),\n",
    "    ScaleIntensityRanged(keys=['img'], a_min=-500, a_max=500,\n",
    "                            b_min=0.0, b_max=1.0, clip=True),\n",
    "    CropForegroundd(keys=['img', 'label'], source_key='img'),\n",
    "    Spacingd(keys=['img', 'label'], pixdim=(1, 1, 2.5), \n",
    "                mode=('bilinear', 'nearest')),\n",
    "    EnsureTyped(keys=['img', 'label'], device='cpu', track_meta=False),\n",
    "    RandCropByPosNegLabeld(\n",
    "        keys=['img', 'label'],\n",
    "        label_key='label',\n",
    "        spatial_size=(96, 96, 96),\n",
    "        pos=1,\n",
    "        neg=1,\n",
    "        num_samples=2,\n",
    "        image_key='img',\n",
    "        image_threshold=0,\n",
    "    )\n",
    "])"
   ]
  },
  {
   "cell_type": "code",
   "execution_count": 20,
   "metadata": {},
   "outputs": [],
   "source": [
    "dataset = Dataset(data=data, transform=transforms)\n",
    "sample = dataset[0]"
   ]
  },
  {
   "cell_type": "code",
   "execution_count": 21,
   "metadata": {},
   "outputs": [
    {
     "data": {
      "text/plain": [
       "[{'img': tensor([[[[0.4279, 0.5405, 0.5911,  ..., 0.0000, 0.0000, 0.0000],\n",
       "            [0.4154, 0.5168, 0.5949,  ..., 0.0000, 0.0000, 0.0000],\n",
       "            [0.4240, 0.5036, 0.5985,  ..., 0.0000, 0.0000, 0.0000],\n",
       "            ...,\n",
       "            [0.0000, 0.0418, 0.2264,  ..., 0.4028, 0.4068, 0.4527],\n",
       "            [0.0000, 0.0000, 0.0000,  ..., 0.4447, 0.4706, 0.4825],\n",
       "            [0.0000, 0.0000, 0.0000,  ..., 0.4993, 0.4927, 0.3388]],\n",
       "  \n",
       "           [[0.4295, 0.5359, 0.5882,  ..., 0.0000, 0.0000, 0.0000],\n",
       "            [0.4191, 0.5207, 0.5953,  ..., 0.0000, 0.0000, 0.0000],\n",
       "            [0.4191, 0.5029, 0.6013,  ..., 0.0000, 0.0000, 0.0000],\n",
       "            ...,\n",
       "            [0.0226, 0.2069, 0.4154,  ..., 0.3937, 0.3990, 0.4382],\n",
       "            [0.0000, 0.0000, 0.0963,  ..., 0.4153, 0.4443, 0.4944],\n",
       "            [0.0000, 0.0000, 0.0000,  ..., 0.5055, 0.5297, 0.4450]],\n",
       "  \n",
       "           [[0.4360, 0.5337, 0.5887,  ..., 0.0000, 0.0000, 0.0000],\n",
       "            [0.4153, 0.5095, 0.5834,  ..., 0.0000, 0.0000, 0.0000],\n",
       "            [0.4091, 0.4870, 0.5841,  ..., 0.0000, 0.0000, 0.0000],\n",
       "            ...,\n",
       "            [0.1563, 0.4117, 0.4768,  ..., 0.3883, 0.3945, 0.4358],\n",
       "            [0.0000, 0.0863, 0.3089,  ..., 0.4016, 0.4296, 0.4884],\n",
       "            [0.0000, 0.0000, 0.0240,  ..., 0.4781, 0.5229, 0.5057]],\n",
       "  \n",
       "           ...,\n",
       "  \n",
       "           [[0.5421, 0.5205, 0.4610,  ..., 0.4005, 0.5585, 0.6554],\n",
       "            [0.5554, 0.5294, 0.4527,  ..., 0.4026, 0.5642, 0.6344],\n",
       "            [0.4750, 0.4545, 0.4615,  ..., 0.3692, 0.5279, 0.6059],\n",
       "            ...,\n",
       "            [0.3983, 0.3992, 0.3948,  ..., 0.3880, 0.3892, 0.3773],\n",
       "            [0.4014, 0.3965, 0.3857,  ..., 0.3934, 0.3863, 0.3742],\n",
       "            [0.3997, 0.3934, 0.3935,  ..., 0.3822, 0.3753, 0.3763]],\n",
       "  \n",
       "           [[0.5006, 0.5140, 0.5007,  ..., 0.3727, 0.5570, 0.6647],\n",
       "            [0.4278, 0.4828, 0.4805,  ..., 0.3361, 0.5596, 0.6493],\n",
       "            [0.3508, 0.3588, 0.4705,  ..., 0.2491, 0.5237, 0.6202],\n",
       "            ...,\n",
       "            [0.3886, 0.3880, 0.3906,  ..., 0.3913, 0.3837, 0.3688],\n",
       "            [0.3838, 0.3811, 0.3826,  ..., 0.3979, 0.3860, 0.3714],\n",
       "            [0.3938, 0.3836, 0.3869,  ..., 0.3955, 0.3897, 0.3826]],\n",
       "  \n",
       "           [[0.4847, 0.5087, 0.5033,  ..., 0.3366, 0.5568, 0.6901],\n",
       "            [0.4424, 0.4743, 0.4916,  ..., 0.2839, 0.5441, 0.6570],\n",
       "            [0.4561, 0.4300, 0.4667,  ..., 0.1455, 0.4986, 0.6304],\n",
       "            ...,\n",
       "            [0.3919, 0.4052, 0.3995,  ..., 0.3873, 0.3843, 0.3765],\n",
       "            [0.3889, 0.3958, 0.3957,  ..., 0.3924, 0.3844, 0.3767],\n",
       "            [0.3964, 0.4007, 0.3941,  ..., 0.4053, 0.3941, 0.3852]]]]),\n",
       "  'label': tensor([[[[0., 0., 0.,  ..., 0., 0., 0.],\n",
       "            [0., 0., 0.,  ..., 0., 0., 0.],\n",
       "            [0., 0., 0.,  ..., 0., 0., 0.],\n",
       "            ...,\n",
       "            [0., 0., 0.,  ..., 0., 0., 0.],\n",
       "            [0., 0., 0.,  ..., 0., 0., 0.],\n",
       "            [0., 0., 0.,  ..., 0., 0., 0.]],\n",
       "  \n",
       "           [[0., 0., 0.,  ..., 0., 0., 0.],\n",
       "            [0., 0., 0.,  ..., 0., 0., 0.],\n",
       "            [0., 0., 0.,  ..., 0., 0., 0.],\n",
       "            ...,\n",
       "            [0., 0., 0.,  ..., 0., 0., 0.],\n",
       "            [0., 0., 0.,  ..., 0., 0., 0.],\n",
       "            [0., 0., 0.,  ..., 0., 0., 0.]],\n",
       "  \n",
       "           [[0., 0., 0.,  ..., 0., 0., 0.],\n",
       "            [0., 0., 0.,  ..., 0., 0., 0.],\n",
       "            [0., 0., 0.,  ..., 0., 0., 0.],\n",
       "            ...,\n",
       "            [0., 0., 0.,  ..., 0., 0., 0.],\n",
       "            [0., 0., 0.,  ..., 0., 0., 0.],\n",
       "            [0., 0., 0.,  ..., 0., 0., 0.]],\n",
       "  \n",
       "           ...,\n",
       "  \n",
       "           [[0., 0., 0.,  ..., 0., 0., 0.],\n",
       "            [0., 0., 0.,  ..., 0., 0., 0.],\n",
       "            [0., 0., 0.,  ..., 0., 0., 0.],\n",
       "            ...,\n",
       "            [0., 0., 0.,  ..., 0., 0., 0.],\n",
       "            [0., 0., 0.,  ..., 0., 0., 0.],\n",
       "            [0., 0., 0.,  ..., 0., 0., 0.]],\n",
       "  \n",
       "           [[0., 0., 0.,  ..., 0., 0., 0.],\n",
       "            [0., 0., 0.,  ..., 0., 0., 0.],\n",
       "            [0., 0., 0.,  ..., 0., 0., 0.],\n",
       "            ...,\n",
       "            [0., 0., 0.,  ..., 0., 0., 0.],\n",
       "            [0., 0., 0.,  ..., 0., 0., 0.],\n",
       "            [0., 0., 0.,  ..., 0., 0., 0.]],\n",
       "  \n",
       "           [[0., 0., 0.,  ..., 0., 0., 0.],\n",
       "            [0., 0., 0.,  ..., 0., 0., 0.],\n",
       "            [0., 0., 0.,  ..., 0., 0., 0.],\n",
       "            ...,\n",
       "            [0., 0., 0.,  ..., 0., 0., 0.],\n",
       "            [0., 0., 0.,  ..., 0., 0., 0.],\n",
       "            [0., 0., 0.,  ..., 0., 0., 0.]]]]),\n",
       "  'img_meta_dict': {'sizeof_hdr': array(348, dtype=int32),\n",
       "   'extents': array(0, dtype=int32),\n",
       "   'session_error': array(0, dtype=int16),\n",
       "   'dim_info': array(0, dtype=uint8),\n",
       "   'dim': array([  3, 512, 512, 110,   1,   1,   1,   1], dtype=int16),\n",
       "   'intent_p1': array(0., dtype=float32),\n",
       "   'intent_p2': array(0., dtype=float32),\n",
       "   'intent_p3': array(0., dtype=float32),\n",
       "   'intent_code': array(0, dtype=int16),\n",
       "   'datatype': array(16, dtype=int16),\n",
       "   'bitpix': array(32, dtype=int16),\n",
       "   'slice_start': array(0, dtype=int16),\n",
       "   'pixdim': array([1.      , 0.644531, 0.644531, 2.5     , 0.      , 0.      ,\n",
       "          0.      , 0.      ], dtype=float32),\n",
       "   'vox_offset': array(0., dtype=float32),\n",
       "   'scl_slope': array(nan, dtype=float32),\n",
       "   'scl_inter': array(nan, dtype=float32),\n",
       "   'slice_end': array(0, dtype=int16),\n",
       "   'slice_code': array(0, dtype=uint8),\n",
       "   'xyzt_units': array(10, dtype=uint8),\n",
       "   'cal_max': array(0., dtype=float32),\n",
       "   'cal_min': array(0., dtype=float32),\n",
       "   'slice_duration': array(0., dtype=float32),\n",
       "   'toffset': array(0., dtype=float32),\n",
       "   'glmax': array(0, dtype=int32),\n",
       "   'glmin': array(0, dtype=int32),\n",
       "   'qform_code': array(1, dtype=int16),\n",
       "   'sform_code': array(1, dtype=int16),\n",
       "   'quatern_b': array(0., dtype=float32),\n",
       "   'quatern_c': array(0., dtype=float32),\n",
       "   'quatern_d': array(0., dtype=float32),\n",
       "   'qoffset_x': array(-329.35535, dtype=float32),\n",
       "   'qoffset_y': array(-329.35535, dtype=float32),\n",
       "   'qoffset_z': array(0., dtype=float32),\n",
       "   'srow_x': array([   0.644531,    0.      ,    0.      , -329.35535 ], dtype=float32),\n",
       "   'srow_y': array([   0.      ,    0.644531,    0.      , -329.35535 ], dtype=float32),\n",
       "   'srow_z': array([0. , 0. , 2.5, 0. ], dtype=float32),\n",
       "   affine: tensor([[   0.6445,    0.0000,    0.0000, -329.3553],\n",
       "           [   0.0000,    0.6445,    0.0000, -329.3553],\n",
       "           [   0.0000,    0.0000,    2.5000,    0.0000],\n",
       "           [   0.0000,    0.0000,    0.0000,    1.0000]], dtype=torch.float64),\n",
       "   original_affine: array([[   0.64453101,    0.        ,    0.        , -329.35534668],\n",
       "          [   0.        ,    0.64453101,    0.        , -329.35534668],\n",
       "          [   0.        ,    0.        ,    2.5       ,    0.        ],\n",
       "          [   0.        ,    0.        ,    0.        ,    1.        ]]),\n",
       "   'as_closest_canonical': False,\n",
       "   spatial_shape: array([512, 512, 110], dtype=int16),\n",
       "   space: RAS,\n",
       "   original_channel_dim: 'no_channel',\n",
       "   'filename_or_obj': '../data/finetune/imgs/FLARE22_Tr_0001_0000.nii.gz'},\n",
       "  'label_meta_dict': {'sizeof_hdr': array(348, dtype=int32),\n",
       "   'extents': array(0, dtype=int32),\n",
       "   'session_error': array(0, dtype=int16),\n",
       "   'dim_info': array(0, dtype=uint8),\n",
       "   'dim': array([  3, 512, 512, 110,   1,   1,   1,   1], dtype=int16),\n",
       "   'intent_p1': array(0., dtype=float32),\n",
       "   'intent_p2': array(0., dtype=float32),\n",
       "   'intent_p3': array(0., dtype=float32),\n",
       "   'intent_code': array(0, dtype=int16),\n",
       "   'datatype': array(512, dtype=int16),\n",
       "   'bitpix': array(16, dtype=int16),\n",
       "   'slice_start': array(0, dtype=int16),\n",
       "   'pixdim': array([1.      , 0.644531, 0.644531, 2.5     , 0.      , 0.      ,\n",
       "          0.      , 0.      ], dtype=float32),\n",
       "   'vox_offset': array(0., dtype=float32),\n",
       "   'scl_slope': array(nan, dtype=float32),\n",
       "   'scl_inter': array(nan, dtype=float32),\n",
       "   'slice_end': array(0, dtype=int16),\n",
       "   'slice_code': array(0, dtype=uint8),\n",
       "   'xyzt_units': array(2, dtype=uint8),\n",
       "   'cal_max': array(0., dtype=float32),\n",
       "   'cal_min': array(0., dtype=float32),\n",
       "   'slice_duration': array(0., dtype=float32),\n",
       "   'toffset': array(0., dtype=float32),\n",
       "   'glmax': array(0, dtype=int32),\n",
       "   'glmin': array(0, dtype=int32),\n",
       "   'qform_code': array(2, dtype=int16),\n",
       "   'sform_code': array(1, dtype=int16),\n",
       "   'quatern_b': array(0., dtype=float32),\n",
       "   'quatern_c': array(0., dtype=float32),\n",
       "   'quatern_d': array(0., dtype=float32),\n",
       "   'qoffset_x': array(-329.35535, dtype=float32),\n",
       "   'qoffset_y': array(-329.35535, dtype=float32),\n",
       "   'qoffset_z': array(0., dtype=float32),\n",
       "   'srow_x': array([   0.644531,    0.      ,   -0.      , -329.35535 ], dtype=float32),\n",
       "   'srow_y': array([   0.      ,    0.644531,   -0.      , -329.35535 ], dtype=float32),\n",
       "   'srow_z': array([0. , 0. , 2.5, 0. ], dtype=float32),\n",
       "   affine: tensor([[   0.6445,    0.0000,   -0.0000, -329.3553],\n",
       "           [   0.0000,    0.6445,   -0.0000, -329.3553],\n",
       "           [   0.0000,    0.0000,    2.5000,    0.0000],\n",
       "           [   0.0000,    0.0000,    0.0000,    1.0000]], dtype=torch.float64),\n",
       "   original_affine: array([[   0.64453101,    0.        ,   -0.        , -329.35534668],\n",
       "          [   0.        ,    0.64453101,   -0.        , -329.35534668],\n",
       "          [   0.        ,    0.        ,    2.5       ,    0.        ],\n",
       "          [   0.        ,    0.        ,    0.        ,    1.        ]]),\n",
       "   'as_closest_canonical': False,\n",
       "   spatial_shape: array([512, 512, 110], dtype=int16),\n",
       "   space: RAS,\n",
       "   original_channel_dim: 'no_channel',\n",
       "   'filename_or_obj': '../data/finetune/labels/FLARE22_Tr_0001.nii.gz'},\n",
       "  'foreground_start_coord': array([ 2, 22,  0]),\n",
       "  'foreground_end_coord': array([511, 470, 110])},\n",
       " {'img': tensor([[[[5.8908e-01, 5.9415e-01, 5.8565e-01,  ..., 0.0000e+00,\n",
       "             0.0000e+00, 0.0000e+00],\n",
       "            [5.6591e-01, 5.8021e-01, 5.7815e-01,  ..., 0.0000e+00,\n",
       "             0.0000e+00, 0.0000e+00],\n",
       "            [5.7872e-01, 5.8670e-01, 5.8308e-01,  ..., 0.0000e+00,\n",
       "             0.0000e+00, 0.0000e+00],\n",
       "            ...,\n",
       "            [4.5311e-01, 4.3457e-01, 4.6176e-01,  ..., 0.0000e+00,\n",
       "             0.0000e+00, 0.0000e+00],\n",
       "            [4.0644e-01, 4.1223e-01, 4.5689e-01,  ..., 0.0000e+00,\n",
       "             0.0000e+00, 0.0000e+00],\n",
       "            [3.2478e-01, 3.5071e-01, 4.6992e-01,  ..., 0.0000e+00,\n",
       "             0.0000e+00, 0.0000e+00]],\n",
       "  \n",
       "           [[5.8028e-01, 5.8244e-01, 5.7981e-01,  ..., 0.0000e+00,\n",
       "             0.0000e+00, 0.0000e+00],\n",
       "            [5.6817e-01, 5.6886e-01, 5.6321e-01,  ..., 0.0000e+00,\n",
       "             0.0000e+00, 0.0000e+00],\n",
       "            [5.6489e-01, 5.6680e-01, 5.7017e-01,  ..., 0.0000e+00,\n",
       "             0.0000e+00, 0.0000e+00],\n",
       "            ...,\n",
       "            [4.2096e-01, 3.9527e-01, 4.6200e-01,  ..., 0.0000e+00,\n",
       "             0.0000e+00, 0.0000e+00],\n",
       "            [4.1135e-01, 4.1144e-01, 4.5182e-01,  ..., 0.0000e+00,\n",
       "             0.0000e+00, 0.0000e+00],\n",
       "            [3.6962e-01, 3.7976e-01, 4.4609e-01,  ..., 0.0000e+00,\n",
       "             0.0000e+00, 0.0000e+00]],\n",
       "  \n",
       "           [[5.7012e-01, 5.6120e-01, 5.6800e-01,  ..., 3.4624e-04,\n",
       "             0.0000e+00, 0.0000e+00],\n",
       "            [5.6312e-01, 5.7237e-01, 5.8030e-01,  ..., 0.0000e+00,\n",
       "             0.0000e+00, 0.0000e+00],\n",
       "            [5.6773e-01, 5.6667e-01, 5.8315e-01,  ..., 0.0000e+00,\n",
       "             0.0000e+00, 0.0000e+00],\n",
       "            ...,\n",
       "            [4.4365e-01, 4.4341e-01, 5.2438e-01,  ..., 0.0000e+00,\n",
       "             0.0000e+00, 0.0000e+00],\n",
       "            [4.2492e-01, 4.6164e-01, 5.0851e-01,  ..., 0.0000e+00,\n",
       "             0.0000e+00, 0.0000e+00],\n",
       "            [3.6333e-01, 3.8570e-01, 4.7577e-01,  ..., 0.0000e+00,\n",
       "             0.0000e+00, 0.0000e+00]],\n",
       "  \n",
       "           ...,\n",
       "  \n",
       "           [[0.0000e+00, 0.0000e+00, 0.0000e+00,  ..., 0.0000e+00,\n",
       "             0.0000e+00, 0.0000e+00],\n",
       "            [0.0000e+00, 0.0000e+00, 0.0000e+00,  ..., 0.0000e+00,\n",
       "             0.0000e+00, 0.0000e+00],\n",
       "            [0.0000e+00, 0.0000e+00, 0.0000e+00,  ..., 0.0000e+00,\n",
       "             0.0000e+00, 0.0000e+00],\n",
       "            ...,\n",
       "            [0.0000e+00, 0.0000e+00, 0.0000e+00,  ..., 0.0000e+00,\n",
       "             0.0000e+00, 0.0000e+00],\n",
       "            [0.0000e+00, 0.0000e+00, 0.0000e+00,  ..., 0.0000e+00,\n",
       "             0.0000e+00, 0.0000e+00],\n",
       "            [0.0000e+00, 0.0000e+00, 0.0000e+00,  ..., 0.0000e+00,\n",
       "             0.0000e+00, 0.0000e+00]],\n",
       "  \n",
       "           [[0.0000e+00, 0.0000e+00, 0.0000e+00,  ..., 0.0000e+00,\n",
       "             0.0000e+00, 0.0000e+00],\n",
       "            [0.0000e+00, 0.0000e+00, 0.0000e+00,  ..., 0.0000e+00,\n",
       "             0.0000e+00, 0.0000e+00],\n",
       "            [0.0000e+00, 0.0000e+00, 0.0000e+00,  ..., 0.0000e+00,\n",
       "             0.0000e+00, 0.0000e+00],\n",
       "            ...,\n",
       "            [0.0000e+00, 0.0000e+00, 0.0000e+00,  ..., 0.0000e+00,\n",
       "             0.0000e+00, 0.0000e+00],\n",
       "            [0.0000e+00, 0.0000e+00, 0.0000e+00,  ..., 0.0000e+00,\n",
       "             0.0000e+00, 0.0000e+00],\n",
       "            [0.0000e+00, 0.0000e+00, 0.0000e+00,  ..., 0.0000e+00,\n",
       "             0.0000e+00, 0.0000e+00]],\n",
       "  \n",
       "           [[0.0000e+00, 0.0000e+00, 0.0000e+00,  ..., 0.0000e+00,\n",
       "             0.0000e+00, 0.0000e+00],\n",
       "            [0.0000e+00, 0.0000e+00, 0.0000e+00,  ..., 0.0000e+00,\n",
       "             0.0000e+00, 0.0000e+00],\n",
       "            [0.0000e+00, 0.0000e+00, 0.0000e+00,  ..., 0.0000e+00,\n",
       "             0.0000e+00, 0.0000e+00],\n",
       "            ...,\n",
       "            [0.0000e+00, 0.0000e+00, 0.0000e+00,  ..., 0.0000e+00,\n",
       "             0.0000e+00, 0.0000e+00],\n",
       "            [0.0000e+00, 0.0000e+00, 0.0000e+00,  ..., 0.0000e+00,\n",
       "             0.0000e+00, 0.0000e+00],\n",
       "            [0.0000e+00, 0.0000e+00, 0.0000e+00,  ..., 0.0000e+00,\n",
       "             0.0000e+00, 0.0000e+00]]]]),\n",
       "  'label': tensor([[[[0., 0., 0.,  ..., 0., 0., 0.],\n",
       "            [0., 0., 0.,  ..., 0., 0., 0.],\n",
       "            [0., 0., 0.,  ..., 0., 0., 0.],\n",
       "            ...,\n",
       "            [0., 0., 0.,  ..., 0., 0., 0.],\n",
       "            [0., 0., 0.,  ..., 0., 0., 0.],\n",
       "            [0., 0., 0.,  ..., 0., 0., 0.]],\n",
       "  \n",
       "           [[0., 0., 0.,  ..., 0., 0., 0.],\n",
       "            [0., 0., 0.,  ..., 0., 0., 0.],\n",
       "            [0., 0., 0.,  ..., 0., 0., 0.],\n",
       "            ...,\n",
       "            [0., 0., 0.,  ..., 0., 0., 0.],\n",
       "            [0., 0., 0.,  ..., 0., 0., 0.],\n",
       "            [0., 0., 0.,  ..., 0., 0., 0.]],\n",
       "  \n",
       "           [[0., 0., 0.,  ..., 0., 0., 0.],\n",
       "            [0., 0., 0.,  ..., 0., 0., 0.],\n",
       "            [0., 0., 0.,  ..., 0., 0., 0.],\n",
       "            ...,\n",
       "            [0., 0., 0.,  ..., 0., 0., 0.],\n",
       "            [0., 0., 0.,  ..., 0., 0., 0.],\n",
       "            [0., 0., 0.,  ..., 0., 0., 0.]],\n",
       "  \n",
       "           ...,\n",
       "  \n",
       "           [[0., 0., 0.,  ..., 0., 0., 0.],\n",
       "            [0., 0., 0.,  ..., 0., 0., 0.],\n",
       "            [0., 0., 0.,  ..., 0., 0., 0.],\n",
       "            ...,\n",
       "            [0., 0., 0.,  ..., 0., 0., 0.],\n",
       "            [0., 0., 0.,  ..., 0., 0., 0.],\n",
       "            [0., 0., 0.,  ..., 0., 0., 0.]],\n",
       "  \n",
       "           [[0., 0., 0.,  ..., 0., 0., 0.],\n",
       "            [0., 0., 0.,  ..., 0., 0., 0.],\n",
       "            [0., 0., 0.,  ..., 0., 0., 0.],\n",
       "            ...,\n",
       "            [0., 0., 0.,  ..., 0., 0., 0.],\n",
       "            [0., 0., 0.,  ..., 0., 0., 0.],\n",
       "            [0., 0., 0.,  ..., 0., 0., 0.]],\n",
       "  \n",
       "           [[0., 0., 0.,  ..., 0., 0., 0.],\n",
       "            [0., 0., 0.,  ..., 0., 0., 0.],\n",
       "            [0., 0., 0.,  ..., 0., 0., 0.],\n",
       "            ...,\n",
       "            [0., 0., 0.,  ..., 0., 0., 0.],\n",
       "            [0., 0., 0.,  ..., 0., 0., 0.],\n",
       "            [0., 0., 0.,  ..., 0., 0., 0.]]]]),\n",
       "  'img_meta_dict': {'sizeof_hdr': array(348, dtype=int32),\n",
       "   'extents': array(0, dtype=int32),\n",
       "   'session_error': array(0, dtype=int16),\n",
       "   'dim_info': array(0, dtype=uint8),\n",
       "   'dim': array([  3, 512, 512, 110,   1,   1,   1,   1], dtype=int16),\n",
       "   'intent_p1': array(0., dtype=float32),\n",
       "   'intent_p2': array(0., dtype=float32),\n",
       "   'intent_p3': array(0., dtype=float32),\n",
       "   'intent_code': array(0, dtype=int16),\n",
       "   'datatype': array(16, dtype=int16),\n",
       "   'bitpix': array(32, dtype=int16),\n",
       "   'slice_start': array(0, dtype=int16),\n",
       "   'pixdim': array([1.      , 0.644531, 0.644531, 2.5     , 0.      , 0.      ,\n",
       "          0.      , 0.      ], dtype=float32),\n",
       "   'vox_offset': array(0., dtype=float32),\n",
       "   'scl_slope': array(nan, dtype=float32),\n",
       "   'scl_inter': array(nan, dtype=float32),\n",
       "   'slice_end': array(0, dtype=int16),\n",
       "   'slice_code': array(0, dtype=uint8),\n",
       "   'xyzt_units': array(10, dtype=uint8),\n",
       "   'cal_max': array(0., dtype=float32),\n",
       "   'cal_min': array(0., dtype=float32),\n",
       "   'slice_duration': array(0., dtype=float32),\n",
       "   'toffset': array(0., dtype=float32),\n",
       "   'glmax': array(0, dtype=int32),\n",
       "   'glmin': array(0, dtype=int32),\n",
       "   'qform_code': array(1, dtype=int16),\n",
       "   'sform_code': array(1, dtype=int16),\n",
       "   'quatern_b': array(0., dtype=float32),\n",
       "   'quatern_c': array(0., dtype=float32),\n",
       "   'quatern_d': array(0., dtype=float32),\n",
       "   'qoffset_x': array(-329.35535, dtype=float32),\n",
       "   'qoffset_y': array(-329.35535, dtype=float32),\n",
       "   'qoffset_z': array(0., dtype=float32),\n",
       "   'srow_x': array([   0.644531,    0.      ,    0.      , -329.35535 ], dtype=float32),\n",
       "   'srow_y': array([   0.      ,    0.644531,    0.      , -329.35535 ], dtype=float32),\n",
       "   'srow_z': array([0. , 0. , 2.5, 0. ], dtype=float32),\n",
       "   affine: tensor([[   0.6445,    0.0000,    0.0000, -329.3553],\n",
       "           [   0.0000,    0.6445,    0.0000, -329.3553],\n",
       "           [   0.0000,    0.0000,    2.5000,    0.0000],\n",
       "           [   0.0000,    0.0000,    0.0000,    1.0000]], dtype=torch.float64),\n",
       "   original_affine: array([[   0.64453101,    0.        ,    0.        , -329.35534668],\n",
       "          [   0.        ,    0.64453101,    0.        , -329.35534668],\n",
       "          [   0.        ,    0.        ,    2.5       ,    0.        ],\n",
       "          [   0.        ,    0.        ,    0.        ,    1.        ]]),\n",
       "   'as_closest_canonical': False,\n",
       "   spatial_shape: array([512, 512, 110], dtype=int16),\n",
       "   space: RAS,\n",
       "   original_channel_dim: 'no_channel',\n",
       "   'filename_or_obj': '../data/finetune/imgs/FLARE22_Tr_0001_0000.nii.gz'},\n",
       "  'label_meta_dict': {'sizeof_hdr': array(348, dtype=int32),\n",
       "   'extents': array(0, dtype=int32),\n",
       "   'session_error': array(0, dtype=int16),\n",
       "   'dim_info': array(0, dtype=uint8),\n",
       "   'dim': array([  3, 512, 512, 110,   1,   1,   1,   1], dtype=int16),\n",
       "   'intent_p1': array(0., dtype=float32),\n",
       "   'intent_p2': array(0., dtype=float32),\n",
       "   'intent_p3': array(0., dtype=float32),\n",
       "   'intent_code': array(0, dtype=int16),\n",
       "   'datatype': array(512, dtype=int16),\n",
       "   'bitpix': array(16, dtype=int16),\n",
       "   'slice_start': array(0, dtype=int16),\n",
       "   'pixdim': array([1.      , 0.644531, 0.644531, 2.5     , 0.      , 0.      ,\n",
       "          0.      , 0.      ], dtype=float32),\n",
       "   'vox_offset': array(0., dtype=float32),\n",
       "   'scl_slope': array(nan, dtype=float32),\n",
       "   'scl_inter': array(nan, dtype=float32),\n",
       "   'slice_end': array(0, dtype=int16),\n",
       "   'slice_code': array(0, dtype=uint8),\n",
       "   'xyzt_units': array(2, dtype=uint8),\n",
       "   'cal_max': array(0., dtype=float32),\n",
       "   'cal_min': array(0., dtype=float32),\n",
       "   'slice_duration': array(0., dtype=float32),\n",
       "   'toffset': array(0., dtype=float32),\n",
       "   'glmax': array(0, dtype=int32),\n",
       "   'glmin': array(0, dtype=int32),\n",
       "   'qform_code': array(2, dtype=int16),\n",
       "   'sform_code': array(1, dtype=int16),\n",
       "   'quatern_b': array(0., dtype=float32),\n",
       "   'quatern_c': array(0., dtype=float32),\n",
       "   'quatern_d': array(0., dtype=float32),\n",
       "   'qoffset_x': array(-329.35535, dtype=float32),\n",
       "   'qoffset_y': array(-329.35535, dtype=float32),\n",
       "   'qoffset_z': array(0., dtype=float32),\n",
       "   'srow_x': array([   0.644531,    0.      ,   -0.      , -329.35535 ], dtype=float32),\n",
       "   'srow_y': array([   0.      ,    0.644531,   -0.      , -329.35535 ], dtype=float32),\n",
       "   'srow_z': array([0. , 0. , 2.5, 0. ], dtype=float32),\n",
       "   affine: tensor([[   0.6445,    0.0000,   -0.0000, -329.3553],\n",
       "           [   0.0000,    0.6445,   -0.0000, -329.3553],\n",
       "           [   0.0000,    0.0000,    2.5000,    0.0000],\n",
       "           [   0.0000,    0.0000,    0.0000,    1.0000]], dtype=torch.float64),\n",
       "   original_affine: array([[   0.64453101,    0.        ,   -0.        , -329.35534668],\n",
       "          [   0.        ,    0.64453101,   -0.        , -329.35534668],\n",
       "          [   0.        ,    0.        ,    2.5       ,    0.        ],\n",
       "          [   0.        ,    0.        ,    0.        ,    1.        ]]),\n",
       "   'as_closest_canonical': False,\n",
       "   spatial_shape: array([512, 512, 110], dtype=int16),\n",
       "   space: RAS,\n",
       "   original_channel_dim: 'no_channel',\n",
       "   'filename_or_obj': '../data/finetune/labels/FLARE22_Tr_0001.nii.gz'},\n",
       "  'foreground_start_coord': array([ 2, 22,  0]),\n",
       "  'foreground_end_coord': array([511, 470, 110])}]"
      ]
     },
     "execution_count": 21,
     "metadata": {},
     "output_type": "execute_result"
    }
   ],
   "source": [
    "sample"
   ]
  },
  {
   "cell_type": "markdown",
   "metadata": {},
   "source": [
    "Note that when using `Dataset` only, a list of data dictionaries are returned \n",
    "(data isn't fully collated yet)."
   ]
  },
  {
   "cell_type": "code",
   "execution_count": 22,
   "metadata": {},
   "outputs": [
    {
     "data": {
      "text/plain": [
       "tensor([ 0.,  1.,  4.,  6., 11., 12.])"
      ]
     },
     "execution_count": 22,
     "metadata": {},
     "output_type": "execute_result"
    }
   ],
   "source": [
    "sample[0]['label'].unique()"
   ]
  },
  {
   "cell_type": "markdown",
   "metadata": {},
   "source": [
    "Labels are encoded using integers."
   ]
  },
  {
   "cell_type": "code",
   "execution_count": 23,
   "metadata": {},
   "outputs": [
    {
     "data": {
      "image/png": "[encoded data removed]",
      "text/plain": [
       "<Figure size 1000x1000 with 2 Axes>"
      ]
     },
     "metadata": {},
     "output_type": "display_data"
    }
   ],
   "source": [
    "fig, axs = plt.subplots(1, 2, figsize=(10, 10))\n",
    "axs[0].imshow(sample[1]['img'][0, :, :, 50], cmap='gray')\n",
    "axs[1].imshow(sample[1]['label'][0, :, :, 50])\n",
    "plt.show()"
   ]
  },
  {
   "cell_type": "markdown",
   "metadata": {},
   "source": [
    "Let's see what happens when using `DataLoader`."
   ]
  },
  {
   "cell_type": "code",
   "execution_count": 24,
   "metadata": {},
   "outputs": [],
   "source": [
    "loader = DataLoader(dataset, shuffle=False)\n",
    "data_dict = first(loader)\n",
    "imgs = data_dict['img']\n",
    "labels = data_dict['label']"
   ]
  },
  {
   "cell_type": "code",
   "execution_count": 25,
   "metadata": {},
   "outputs": [
    {
     "data": {
      "text/plain": [
       "(torch.Size([2, 1, 96, 96, 96]), torch.Size([2, 1, 96, 96, 96]))"
      ]
     },
     "execution_count": 25,
     "metadata": {},
     "output_type": "execute_result"
    }
   ],
   "source": [
    "imgs.shape, labels.shape"
   ]
  },
  {
   "cell_type": "markdown",
   "metadata": {},
   "source": [
    "The data is now collated properly."
   ]
  },
  {
   "cell_type": "code",
   "execution_count": 26,
   "metadata": {},
   "outputs": [
    {
     "data": {
      "image/png": "[encoded data removed]",
      "text/plain": [
       "<Figure size 1000x1000 with 2 Axes>"
      ]
     },
     "metadata": {},
     "output_type": "display_data"
    }
   ],
   "source": [
    "fig, axs = plt.subplots(1, 2, figsize=(10, 10))\n",
    "axs[0].imshow(imgs[0, 0, :, :, 50], cmap='gray')\n",
    "axs[1].imshow(labels[0, 0, :, :, 50])\n",
    "plt.show()"
   ]
  }
 ],
 "metadata": {
  "kernelspec": {
   "display_name": "Python 3 (ipykernel)",
   "language": "python",
   "name": "python3"
  },
  "language_info": {
   "codemirror_mode": {
    "name": "ipython",
    "version": 3
   },
   "file_extension": ".py",
   "mimetype": "text/x-python",
   "name": "python",
   "nbconvert_exporter": "python",
   "pygments_lexer": "ipython3",
   "version": "3.10.6"
  }
 },
 "nbformat": 4,
 "nbformat_minor": 2
}
