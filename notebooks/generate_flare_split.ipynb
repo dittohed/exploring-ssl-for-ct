{
 "cells": [
  {
   "attachments": {},
   "cell_type": "markdown",
   "metadata": {},
   "source": [
    "The aim of this notebook is to generate train/val split .json to make\n",
    "experiments consistent regardless of random seed backends. "
   ]
  },
  {
   "cell_type": "code",
   "execution_count": 5,
   "metadata": {},
   "outputs": [],
   "source": [
    "import json\n",
    "\n",
    "from pathlib import Path\n",
    "from sklearn.model_selection import train_test_split"
   ]
  },
  {
   "cell_type": "code",
   "execution_count": 6,
   "metadata": {},
   "outputs": [],
   "source": [
    "label_paths = list(Path('../data/finetune/labels').iterdir())\n",
    "train_paths, val_paths = train_test_split(\n",
    "    label_paths, test_size=0.5, random_state=42, shuffle=True\n",
    ")"
   ]
  },
  {
   "cell_type": "code",
   "execution_count": 8,
   "metadata": {},
   "outputs": [],
   "source": [
    "split = {\n",
    "    '_comment': 'FLARE2022 custom split',\n",
    "    'train': [Path(path.stem).stem for path in train_paths],\n",
    "    'val': [Path(path.stem).stem  for path in val_paths]\n",
    "}"
   ]
  },
  {
   "cell_type": "code",
   "execution_count": 9,
   "metadata": {},
   "outputs": [],
   "source": [
    "with open('../data/split.json', 'w') as outfile:\n",
    "    json.dump(split, outfile)"
   ]
  }
 ],
 "metadata": {
  "kernelspec": {
   "display_name": "sslct",
   "language": "python",
   "name": "python3"
  },
  "language_info": {
   "codemirror_mode": {
    "name": "ipython",
    "version": 3
   },
   "file_extension": ".py",
   "mimetype": "text/x-python",
   "name": "python",
   "nbconvert_exporter": "python",
   "pygments_lexer": "ipython3",
   "version": "3.10.6"
  },
  "orig_nbformat": 4
 },
 "nbformat": 4,
 "nbformat_minor": 2
}
