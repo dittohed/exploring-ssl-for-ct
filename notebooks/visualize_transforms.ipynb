{
 "cells": [
  {
   "attachments": {},
   "cell_type": "markdown",
   "metadata": {},
   "source": [
    "The aim of this notebook is to visualize the effects of some of the transformations."
   ]
  },
  {
   "cell_type": "code",
   "execution_count": null,
   "metadata": {},
   "outputs": [],
   "source": [
    "import sys \n",
    "sys.path.append('..')"
   ]
  },
  {
   "cell_type": "code",
   "execution_count": null,
   "metadata": {},
   "outputs": [],
   "source": [
    "import matplotlib.pyplot as plt\n",
    "\n",
    "from monai.data import DataLoader, Dataset\n",
    "from monai.utils import first\n",
    "import monai.transforms as T"
   ]
  },
  {
   "cell_type": "code",
   "execution_count": null,
   "metadata": {},
   "outputs": [],
   "source": [
    "base_transforms = [\n",
    "    T.LoadImaged(\n",
    "        keys=['img']\n",
    "    ),\n",
    "    T.EnsureChannelFirstd(\n",
    "        keys=['img']\n",
    "    ),\n",
    "    T.Orientationd(\n",
    "        keys=['img'], \n",
    "        axcodes='RAS'\n",
    "    ),\n",
    "    T.Spacingd(\n",
    "        keys=['img'], \n",
    "        pixdim=(1, 1, 2.5),\n",
    "        mode=('bilinear')\n",
    "    ),\n",
    "    T.ScaleIntensityRanged(\n",
    "        keys=['img'], \n",
    "        a_min=-500, a_max=500,\n",
    "        b_min=0.0, b_max=1.0, clip=True\n",
    "    ),\n",
    "    T.CropForegroundd(\n",
    "        keys=['img'], \n",
    "        source_key='img'\n",
    "    ),\n",
    "    T.SpatialPadd(\n",
    "        keys=['img'], \n",
    "        spatial_size=(96, 96, 96)\n",
    "    ),\n",
    "    T.EnsureTyped(\n",
    "        keys=['img'], \n",
    "        track_meta=False\n",
    "    )\n",
    "]\n",
    "\n",
    "transforms = T.Compose([\n",
    "    *base_transforms,\n",
    "    T.RandZoomd(\n",
    "        keys=['img'], \n",
    "        min_zoom=0.8, \n",
    "        max_zoom=1.2, \n",
    "        mode=('trilinear'),\n",
    "        align_corners=True,\n",
    "        prob=1\n",
    "    ),\n",
    "    # T.RandCropByPosNegLabeld(\n",
    "    #     keys=['img'],\n",
    "    #     label_key='label',\n",
    "    #     spatial_size=(96, 96, 96),\n",
    "    #     pos=1,\n",
    "    #     neg=1,\n",
    "    #     num_samples=2,\n",
    "    #     image_key='img',\n",
    "    #     image_threshold=0\n",
    "    # ),\n",
    "    # T.RandGaussianSmoothd(\n",
    "    #     keys=['img'],\n",
    "    #     prob=0.1\n",
    "    # ),\n",
    "    T.RandScaleIntensityd(\n",
    "        keys=['img'], \n",
    "        factors=0.1, \n",
    "        prob=1\n",
    "    ),\n",
    "    T.RandShiftIntensityd(\n",
    "        keys=['img'], \n",
    "        offsets=0.1, \n",
    "        prob=1\n",
    "    ),\n",
    "    # T.RandGaussianNoised(\n",
    "    #     keys=['img'],\n",
    "    #     std=0.01,\n",
    "    #     prob=0.15\n",
    "    # ),\n",
    "    # T.RandFlipd(\n",
    "    #     keys=['img'], \n",
    "    #     spatial_axis=0,\n",
    "    #     prob=0.25\n",
    "    # ),\n",
    "    # T.RandFlipd(\n",
    "    #     keys=['img'], \n",
    "    #     spatial_axis=1,\n",
    "    #     prob=0.25\n",
    "    # ),\n",
    "    # T.RandFlipd(\n",
    "    #     keys=['img'], \n",
    "    #     spatial_axis=2,\n",
    "    #     prob=0.25\n",
    "    # ),\n",
    "    # T.RandRotate90d(\n",
    "    #     keys=['img'], \n",
    "    #     max_k=3,\n",
    "    #     prob=0.25\n",
    "    # )\n",
    "])"
   ]
  },
  {
   "cell_type": "code",
   "execution_count": null,
   "metadata": {},
   "outputs": [],
   "source": [
    "data = [\n",
    "    {\n",
    "        'img': '../data/ssl/FLARETs_0047_0000.nii.gz'\n",
    "    },\n",
    "    {\n",
    "        'img': '../data/ssl/FLARETs_0048_0000.nii.gz'\n",
    "    },\n",
    "    {\n",
    "        'img': '../data/ssl/FLARETs_0049_0000.nii.gz'\n",
    "    }\n",
    "]"
   ]
  },
  {
   "cell_type": "code",
   "execution_count": null,
   "metadata": {},
   "outputs": [],
   "source": [
    "check_ds = Dataset(data=data, transform=transforms)\n",
    "check_loader = DataLoader(check_ds, batch_size=1)"
   ]
  },
  {
   "cell_type": "code",
   "execution_count": null,
   "metadata": {},
   "outputs": [],
   "source": [
    "check_data = first(check_loader)\n",
    "img = check_data['img'][0][0]"
   ]
  },
  {
   "cell_type": "code",
   "execution_count": null,
   "metadata": {},
   "outputs": [],
   "source": [
    "plt.imshow(check_data['img'][0][0][:, :, 50], cmap='gray', vmin=0, vmax=1)"
   ]
  },
  {
   "cell_type": "code",
   "execution_count": null,
   "metadata": {},
   "outputs": [],
   "source": [
    "plt.imshow(check_data['img'][0][0][:, :, 0], cmap='gray', vmin=0, vmax=1)"
   ]
  },
  {
   "cell_type": "code",
   "execution_count": null,
   "metadata": {},
   "outputs": [],
   "source": [
    "print(check_data['img1_coords'])\n",
    "plt.imshow(check_data['img1'][0][0][:, :, 0], cmap='gray', vmin=0, vmax=1)"
   ]
  },
  {
   "cell_type": "code",
   "execution_count": null,
   "metadata": {},
   "outputs": [],
   "source": [
    "print(check_data['img2_coords'])\n",
    "plt.imshow(check_data['img2'][0][0][:, :, 7], cmap='gray', vmin=0, vmax=1)"
   ]
  }
 ],
 "metadata": {
  "kernelspec": {
   "display_name": "sslct",
   "language": "python",
   "name": "python3"
  },
  "language_info": {
   "codemirror_mode": {
    "name": "ipython",
    "version": 3
   },
   "file_extension": ".py",
   "mimetype": "text/x-python",
   "name": "python",
   "nbconvert_exporter": "python",
   "pygments_lexer": "ipython3",
   "version": "3.10.6"
  },
  "orig_nbformat": 4
 },
 "nbformat": 4,
 "nbformat_minor": 2
}
