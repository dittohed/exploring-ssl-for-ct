{
 "cells": [
  {
   "cell_type": "code",
   "execution_count": null,
   "metadata": {},
   "outputs": [],
   "source": [
    "import matplotlib.pyplot as plt\n",
    "\n",
    "from monai.data import DataLoader, Dataset\n",
    "from monai.utils import set_determinism, first\n",
    "from monai.transforms import (\n",
    "    LoadImaged,\n",
    "    Compose,\n",
    "    CropForegroundd,\n",
    "    EnsureChannelFirstd,\n",
    "    ScaleIntensityRanged,\n",
    "    Orientationd,\n",
    "    Spacingd,\n",
    "    ToTensord\n",
    ")\n",
    "\n",
    "from transforms import IoUCropd"
   ]
  },
  {
   "cell_type": "code",
   "execution_count": null,
   "metadata": {},
   "outputs": [],
   "source": [
    "data = [\n",
    "    {\n",
    "        'img': '../data/FLARETs_0047_0000.nii.gz',\n",
    "        'my_key': 1\n",
    "    },\n",
    "    {\n",
    "        'img': '../data/FLARETs_0048_0000.nii.gz',\n",
    "        'my_key': 2\n",
    "    },\n",
    "    {\n",
    "        'img': '../data/FLARETs_0049_0000.nii.gz',\n",
    "        'my_key': 2\n",
    "    }\n",
    "]"
   ]
  },
  {
   "cell_type": "code",
   "execution_count": null,
   "metadata": {},
   "outputs": [],
   "source": [
    "# TODO: check invalid metadata for orientation\n",
    "# https://github.com/Project-MONAI/MONAI/discussions/3906"
   ]
  },
  {
   "cell_type": "code",
   "execution_count": null,
   "metadata": {},
   "outputs": [],
   "source": [
    "transforms = Compose([\n",
    "    LoadImaged(keys=['img']),\n",
    "    EnsureChannelFirstd(keys=['img']),\n",
    "    Orientationd(keys=['img'], axcodes='RAS'),\n",
    "    Spacingd(keys=['img'], pixdim=(1.5, 1.5, 2.0), mode=('bilinear')),\n",
    "    ScaleIntensityRanged(keys=['img'], a_min=-175, a_max=250,\n",
    "                         b_min=0.0, b_max=1.0, clip=True),\n",
    "    CropForegroundd(keys=['img'], source_key='img'),\n",
    "    IoUCropd(keys=['img'], min_iou=0.6, max_iou=0.7, debug=True),\n",
    "    # TODO: put augmentations here\n",
    "    ToTensord(keys=['img1', 'img2'])\n",
    "])\n",
    "\n",
    "check_ds = Dataset(data=data, transform=transforms)\n",
    "check_loader = DataLoader(check_ds, batch_size=1)"
   ]
  },
  {
   "cell_type": "code",
   "execution_count": null,
   "metadata": {},
   "outputs": [],
   "source": [
    "check_data = first(check_loader)\n",
    "img = check_data['img'][0][0]"
   ]
  },
  {
   "cell_type": "code",
   "execution_count": null,
   "metadata": {},
   "outputs": [],
   "source": [
    "plt.imshow(check_data['img'][0][0][:, :, 48], cmap='gray', vmin=0, vmax=1)"
   ]
  },
  {
   "cell_type": "code",
   "execution_count": null,
   "metadata": {},
   "outputs": [],
   "source": [
    "print(check_data['img1_coords'])\n",
    "plt.imshow(check_data['img1'][0][0][:, :, 0], cmap='gray', vmin=0, vmax=1)"
   ]
  },
  {
   "cell_type": "code",
   "execution_count": null,
   "metadata": {},
   "outputs": [],
   "source": [
    "print(check_data['img2_coords'])\n",
    "plt.imshow(check_data['img2'][0][0][:, :, 11], cmap='gray', vmin=0, vmax=1)"
   ]
  }
 ],
 "metadata": {
  "kernelspec": {
   "display_name": "sslct",
   "language": "python",
   "name": "python3"
  },
  "language_info": {
   "codemirror_mode": {
    "name": "ipython",
    "version": 3
   },
   "file_extension": ".py",
   "mimetype": "text/x-python",
   "name": "python",
   "nbconvert_exporter": "python",
   "pygments_lexer": "ipython3",
   "version": "3.10.6"
  },
  "orig_nbformat": 4
 },
 "nbformat": 4,
 "nbformat_minor": 2
}
